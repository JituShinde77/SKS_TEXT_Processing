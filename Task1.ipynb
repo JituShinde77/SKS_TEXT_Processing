{
 "cells": [
  {
   "cell_type": "markdown",
   "metadata": {},
   "source": [
    "# Assignment\n",
    "\n",
    "Data: \n",
    "\n",
    "Below represents sample coupon data for a retailer. Each column (tokenized value) is extracted from OfferDetails"
   ]
  },
  {
   "cell_type": "code",
   "execution_count": 1,
   "metadata": {},
   "outputs": [],
   "source": [
    "import pandas as pd\n",
    "import numpy as np\n",
    "\n",
    "import re\n",
    "from textblob import TextBlob"
   ]
  },
  {
   "cell_type": "code",
   "execution_count": 2,
   "metadata": {},
   "outputs": [
    {
     "name": "stdout",
     "output_type": "stream",
     "text": [
      "(886, 1)\n"
     ]
    }
   ],
   "source": [
    "#Data\n",
    "data = pd.read_csv('coupons_ner.csv', names = ['OfferDetails'])\n",
    "print (data.shape)\n"
   ]
  },
  {
   "cell_type": "code",
   "execution_count": 3,
   "metadata": {},
   "outputs": [
    {
     "data": {
      "text/html": [
       "<div>\n",
       "<style scoped>\n",
       "    .dataframe tbody tr th:only-of-type {\n",
       "        vertical-align: middle;\n",
       "    }\n",
       "\n",
       "    .dataframe tbody tr th {\n",
       "        vertical-align: top;\n",
       "    }\n",
       "\n",
       "    .dataframe thead th {\n",
       "        text-align: right;\n",
       "    }\n",
       "</style>\n",
       "<table border=\"1\" class=\"dataframe\">\n",
       "  <thead>\n",
       "    <tr style=\"text-align: right;\">\n",
       "      <th></th>\n",
       "      <th>OfferDetails</th>\n",
       "    </tr>\n",
       "  </thead>\n",
       "  <tbody>\n",
       "    <tr>\n",
       "      <td>0</td>\n",
       "      <td>Save $2.00 ONE Downy Liquid Fabric Conditioner...</td>\n",
       "    </tr>\n",
       "    <tr>\n",
       "      <td>1</td>\n",
       "      <td>Save $2.00 ONE Tide PODS OR Tide Power PODS (e...</td>\n",
       "    </tr>\n",
       "    <tr>\n",
       "      <td>2</td>\n",
       "      <td>Save $2.00 ONE Tide Laundry Detergent (exclude...</td>\n",
       "    </tr>\n",
       "    <tr>\n",
       "      <td>3</td>\n",
       "      <td>SAVE $1.00 ON TWO when you buy TWO BOXES (8.9 ...</td>\n",
       "    </tr>\n",
       "    <tr>\n",
       "      <td>4</td>\n",
       "      <td>$3.00 OFF when you purchase any THREE (3) Pepp...</td>\n",
       "    </tr>\n",
       "  </tbody>\n",
       "</table>\n",
       "</div>"
      ],
      "text/plain": [
       "                                        OfferDetails\n",
       "0  Save $2.00 ONE Downy Liquid Fabric Conditioner...\n",
       "1  Save $2.00 ONE Tide PODS OR Tide Power PODS (e...\n",
       "2  Save $2.00 ONE Tide Laundry Detergent (exclude...\n",
       "3  SAVE $1.00 ON TWO when you buy TWO BOXES (8.9 ...\n",
       "4  $3.00 OFF when you purchase any THREE (3) Pepp..."
      ]
     },
     "execution_count": 3,
     "metadata": {},
     "output_type": "execute_result"
    }
   ],
   "source": [
    "data.head()"
   ]
  },
  {
   "cell_type": "markdown",
   "metadata": {},
   "source": [
    "## Exercise 1\n",
    "* Write a function that takes OfferDetails as input, and returns FaceValue as output\n",
    "* Run the function against all rows in the attached data and determine function accuracy (Higher the better)\n",
    "\n",
    "\n",
    "Hint: For Exercise 1, regex function should do (ensure that all edge cases are taken care of)"
   ]
  },
  {
   "cell_type": "code",
   "execution_count": 4,
   "metadata": {},
   "outputs": [],
   "source": [
    "def faceVal(sentence):\n",
    "    '''\n",
    "        Function find the $ value in the string and put return the total.\n",
    "        Input: String \n",
    "        Output: Dollar total value\n",
    "    '''\n",
    "    sentence = sentence.lower()\n",
    "    words = sentence.split(\" \")\n",
    "    \n",
    "    saveMoneyWords = ['save',  'get', 'recieve', 'off']\n",
    "    if 'save' not in words and 'get' not in words and 'recieve' not in words and 'off' not in words :\n",
    "        return 'None'\n",
    "    \n",
    "    total_save = 0\n",
    "    for index, word in enumerate(words):\n",
    "        \n",
    "        dd = re.findall(r\"\\$\\d+(?:\\.\\d+)?\", word)\n",
    "       \n",
    "        if '¢' in word:\n",
    "            cent = re.findall(r\"\\d+(?:\\.\\d+)?\\¢\", word)\n",
    "            total_cent = 0\n",
    "            for k in cent:\n",
    "                total_cent += float(re.findall('[0-9]+', k)[0])/100 \n",
    "            dd.append('$'+str(total_cent))\n",
    "\n",
    "        for k in dd: ## Check the previous and next word of dallor symbol\n",
    "            if index == 0:\n",
    "                if words[index+1] in saveMoneyWords:\n",
    "                    total_save += float(re.findall(r\"[-+]?\\d*\\.\\d+|\\d+\", k)[0])\n",
    "            elif index == len(words)-1:\n",
    "                if words[index-1] in saveMoneyWords:\n",
    "                    total_save += float(re.findall(r\"[-+]?\\d*\\.\\d+|\\d+\", k)[0])\n",
    "            elif words[index+1] in saveMoneyWords or words[index-1] in saveMoneyWords:\n",
    "                total_save += float(re.findall(r\"[-+]?\\d*\\.\\d+|\\d+\", k)[0])\n",
    "\n",
    "    if total_save != 0:\n",
    "        return '$'+str(total_save)\n",
    "    else:\n",
    "        return 'None'"
   ]
  },
  {
   "cell_type": "code",
   "execution_count": 5,
   "metadata": {},
   "outputs": [
    {
     "name": "stdout",
     "output_type": "stream",
     "text": [
      "                                         OfferDetails FaceVal\n",
      "0   Save $2.00 ONE Downy Liquid Fabric Conditioner...    $2.0\n",
      "1   Save $2.00 ONE Tide PODS OR Tide Power PODS (e...    $2.0\n",
      "2   Save $2.00 ONE Tide Laundry Detergent (exclude...    $2.0\n",
      "3   SAVE $1.00 ON TWO when you buy TWO BOXES (8.9 ...    $1.0\n",
      "4   $3.00 OFF when you purchase any THREE (3) Pepp...    $3.0\n",
      "5   SAVE $1.11 when you buy any ONE (1) Familly Si...   $1.11\n",
      "6   SAVE $1.00 ON TWO when you buy TWO PACKAGES an...    $1.0\n",
      "7   Save $1.00 on any TWO (2) Sargento® Natural Ch...    $1.0\n",
      "8   $0.65 OFF On Any ONE (1) Oikos Greek Yogurt Cu...   $0.65\n",
      "9   $2.00 OFF ONE (1) SMALL bag of Eight O'Clock® ...    $2.0\n",
      "10  Save $0.50 ONE Tide Simply Laundry Detergent 3...    $0.5\n",
      "11  SAVE $1.00 ON TWO when you buy TWO BOXES any f...    $1.0\n",
      "12  $0.50 OFF on ONE (1) Frigo® Cheese Heads® 8ct ...    $0.5\n",
      "13  Save $0.50 off ONE (1) jar of Pace® Salsa or P...    $0.5\n",
      "14         $1.00 OFF on any THREE (3) noosa® yoghurts    $1.0\n",
      "15     Save $1.00 on any ONE (1) Gardein™ Frozen Item    $1.0\n",
      "16  Save $1.00 ONE Gain Flings 12 ct TO 26 ct OR G...    $1.0\n",
      "17  Save $0.50 on any ONE (1) pack of Energizer® B...    $0.5\n",
      "18  SAVE $2.00 on TWO (2) Purina® Beggin®, Busy® o...    $2.0\n",
      "19  Save $0.50 on any one (1) Pine-Sol® product, 4...    $0.5\n"
     ]
    }
   ],
   "source": [
    "data['FaceVal'] = data['OfferDetails'].apply(lambda x: faceVal(x))\n",
    "print (data.head(20))"
   ]
  },
  {
   "cell_type": "code",
   "execution_count": 6,
   "metadata": {},
   "outputs": [
    {
     "data": {
      "text/html": [
       "<div>\n",
       "<style scoped>\n",
       "    .dataframe tbody tr th:only-of-type {\n",
       "        vertical-align: middle;\n",
       "    }\n",
       "\n",
       "    .dataframe tbody tr th {\n",
       "        vertical-align: top;\n",
       "    }\n",
       "\n",
       "    .dataframe thead th {\n",
       "        text-align: right;\n",
       "    }\n",
       "</style>\n",
       "<table border=\"1\" class=\"dataframe\">\n",
       "  <thead>\n",
       "    <tr style=\"text-align: right;\">\n",
       "      <th></th>\n",
       "      <th>OfferDetails</th>\n",
       "      <th>FaceValue</th>\n",
       "    </tr>\n",
       "  </thead>\n",
       "  <tbody>\n",
       "    <tr>\n",
       "      <td>0</td>\n",
       "      <td>Save $2.00 ONE Downy Liquid Fabric Conditioner...</td>\n",
       "      <td>$2.0</td>\n",
       "    </tr>\n",
       "    <tr>\n",
       "      <td>1</td>\n",
       "      <td>Save $2.00 ONE Tide PODS OR Tide Power PODS (e...</td>\n",
       "      <td>$2.0</td>\n",
       "    </tr>\n",
       "    <tr>\n",
       "      <td>2</td>\n",
       "      <td>Save $2.00 ONE Tide Laundry Detergent (exclude...</td>\n",
       "      <td>$2.0</td>\n",
       "    </tr>\n",
       "    <tr>\n",
       "      <td>3</td>\n",
       "      <td>SAVE $1.00 ON TWO when you buy TWO BOXES (8.9 ...</td>\n",
       "      <td>$1.0</td>\n",
       "    </tr>\n",
       "    <tr>\n",
       "      <td>4</td>\n",
       "      <td>$3.00 OFF when you purchase any THREE (3) Pepp...</td>\n",
       "      <td>$3.0</td>\n",
       "    </tr>\n",
       "  </tbody>\n",
       "</table>\n",
       "</div>"
      ],
      "text/plain": [
       "                                        OfferDetails FaceValue\n",
       "0  Save $2.00 ONE Downy Liquid Fabric Conditioner...      $2.0\n",
       "1  Save $2.00 ONE Tide PODS OR Tide Power PODS (e...      $2.0\n",
       "2  Save $2.00 ONE Tide Laundry Detergent (exclude...      $2.0\n",
       "3  SAVE $1.00 ON TWO when you buy TWO BOXES (8.9 ...      $1.0\n",
       "4  $3.00 OFF when you purchase any THREE (3) Pepp...      $3.0"
      ]
     },
     "execution_count": 6,
     "metadata": {},
     "output_type": "execute_result"
    }
   ],
   "source": [
    "dataWithManualFaceVal = pd.read_csv('coupons_ner_fvalue.csv')\n",
    "dataWithManualFaceVal.head()"
   ]
  },
  {
   "cell_type": "code",
   "execution_count": 7,
   "metadata": {},
   "outputs": [
    {
     "data": {
      "text/html": [
       "<div>\n",
       "<style scoped>\n",
       "    .dataframe tbody tr th:only-of-type {\n",
       "        vertical-align: middle;\n",
       "    }\n",
       "\n",
       "    .dataframe tbody tr th {\n",
       "        vertical-align: top;\n",
       "    }\n",
       "\n",
       "    .dataframe thead th {\n",
       "        text-align: right;\n",
       "    }\n",
       "</style>\n",
       "<table border=\"1\" class=\"dataframe\">\n",
       "  <thead>\n",
       "    <tr style=\"text-align: right;\">\n",
       "      <th></th>\n",
       "      <th>OfferDetails</th>\n",
       "      <th>FaceVal</th>\n",
       "    </tr>\n",
       "  </thead>\n",
       "  <tbody>\n",
       "    <tr>\n",
       "      <td>0</td>\n",
       "      <td>Save $2.00 ONE Downy Liquid Fabric Conditioner...</td>\n",
       "      <td>$2.0</td>\n",
       "    </tr>\n",
       "    <tr>\n",
       "      <td>1</td>\n",
       "      <td>Save $2.00 ONE Tide PODS OR Tide Power PODS (e...</td>\n",
       "      <td>$2.0</td>\n",
       "    </tr>\n",
       "    <tr>\n",
       "      <td>2</td>\n",
       "      <td>Save $2.00 ONE Tide Laundry Detergent (exclude...</td>\n",
       "      <td>$2.0</td>\n",
       "    </tr>\n",
       "    <tr>\n",
       "      <td>3</td>\n",
       "      <td>SAVE $1.00 ON TWO when you buy TWO BOXES (8.9 ...</td>\n",
       "      <td>$1.0</td>\n",
       "    </tr>\n",
       "    <tr>\n",
       "      <td>4</td>\n",
       "      <td>$3.00 OFF when you purchase any THREE (3) Pepp...</td>\n",
       "      <td>$3.0</td>\n",
       "    </tr>\n",
       "  </tbody>\n",
       "</table>\n",
       "</div>"
      ],
      "text/plain": [
       "                                        OfferDetails FaceVal\n",
       "0  Save $2.00 ONE Downy Liquid Fabric Conditioner...    $2.0\n",
       "1  Save $2.00 ONE Tide PODS OR Tide Power PODS (e...    $2.0\n",
       "2  Save $2.00 ONE Tide Laundry Detergent (exclude...    $2.0\n",
       "3  SAVE $1.00 ON TWO when you buy TWO BOXES (8.9 ...    $1.0\n",
       "4  $3.00 OFF when you purchase any THREE (3) Pepp...    $3.0"
      ]
     },
     "execution_count": 7,
     "metadata": {},
     "output_type": "execute_result"
    }
   ],
   "source": [
    "dataWithManualFaceVal.fillna('None', inplace=True)\n",
    "data.head()"
   ]
  },
  {
   "cell_type": "code",
   "execution_count": 8,
   "metadata": {},
   "outputs": [],
   "source": [
    "accuracy = [dataWithManualFaceVal['FaceValue'] == data['FaceVal']]"
   ]
  },
  {
   "cell_type": "code",
   "execution_count": 12,
   "metadata": {},
   "outputs": [
    {
     "name": "stdout",
     "output_type": "stream",
     "text": [
      "$2.0\n",
      "$2.0\n",
      "None\n",
      "None\n",
      "[True]\n"
     ]
    }
   ],
   "source": [
    "print (dataWithManualFaceVal['FaceValue'][100])\n",
    "print (data['FaceVal'][100])\n",
    "\n",
    "\n",
    "print (dataWithManualFaceVal['FaceValue'][884])\n",
    "print (data['FaceVal'][884])\n",
    "print ([dataWithManualFaceVal['FaceValue'][884] == data['FaceVal'][884]])\n",
    "\n"
   ]
  },
  {
   "cell_type": "code",
   "execution_count": 13,
   "metadata": {},
   "outputs": [
    {
     "name": "stdout",
     "output_type": "stream",
     "text": [
      "Number of correctly predicting points: 859\n",
      "Total number of data points: 886\n",
      "Accuracy: 96.95259593679458 %\n"
     ]
    }
   ],
   "source": [
    "print (\"Number of correctly predicting points:\", sum(sum(accuracy)))\n",
    "print (\"Total number of data points:\",len(data))\n",
    "print (\"Accuracy:\", sum(sum(accuracy))/len(data)*100, '%')"
   ]
  },
  {
   "cell_type": "markdown",
   "metadata": {},
   "source": [
    "## Conclusion:\n",
    "    1. It shows the 96.95% accuracy on face value prediction."
   ]
  },
  {
   "cell_type": "code",
   "execution_count": null,
   "metadata": {},
   "outputs": [],
   "source": []
  }
 ],
 "metadata": {
  "kernelspec": {
   "display_name": "Python 3",
   "language": "python",
   "name": "python3"
  },
  "language_info": {
   "codemirror_mode": {
    "name": "ipython",
    "version": 3
   },
   "file_extension": ".py",
   "mimetype": "text/x-python",
   "name": "python",
   "nbconvert_exporter": "python",
   "pygments_lexer": "ipython3",
   "version": "3.7.8"
  }
 },
 "nbformat": 4,
 "nbformat_minor": 2
}
